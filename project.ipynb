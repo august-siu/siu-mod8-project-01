{
  "cells": [
    {
      "cell_type": "markdown",
      "metadata": {
        "id": "DDELa7o5UXrY"
      },
      "source": [
        "# DX 704 Week 1 Project\n",
        "\n",
        "This week's project will build a portfolio risk and return model, and make investing recommendations for hypothetical clients.\n",
        "You will collect historical data, estimate returns and risks, construct efficient frontier portfolios, and sanity check the certainty of the maximum return portfolio."
      ]
    },
    {
      "cell_type": "markdown",
      "metadata": {
        "id": "P6SxppNu8p8k"
      },
      "source": [
        "The full project description and a template notebook are available on GitHub at the following link.\n",
        "\n",
        "https://github.com/bu-cds-dx704/dx704-project-01\n"
      ]
    },
    {
      "cell_type": "markdown",
      "metadata": {
        "id": "GmIaQcdCwObV"
      },
      "source": [
        "Feel free to use optimization tools or libraries (such as CVXOPT or scipy.optimize) to perform any calculations required for this mini project."
      ]
    },
    {
      "cell_type": "markdown",
      "metadata": {},
      "source": [
        "### Example Code\n",
        "\n",
        "You may find it helpful to refer to these GitHub repositories of Jupyter notebooks for example code.\n",
        "\n",
        "* https://github.com/bu-cds-omds/dx601-examples\n",
        "* https://github.com/bu-cds-omds/dx602-examples\n",
        "* https://github.com/bu-cds-omds/dx603-examples\n",
        "* https://github.com/bu-cds-omds/dx704-examples\n",
        "\n",
        "Any calculations demonstrated in code examples or videos may be found in these notebooks, and you are allowed to copy this example code in your homework answers."
      ]
    },
    {
      "cell_type": "markdown",
      "metadata": {
        "id": "pv3PslO0V5Lm"
      },
      "source": [
        "## Part 1: Collect Data\n",
        "\n",
        "Collect historical monthly price data for the last 24 months covering 6 different stocks.\n",
        "The data should cover 24 consecutive months including the last month that ended before this week's material was released on Blackboard.\n",
        "To be clear, if a month ends between the Blackboard release and submitting your project, you do not need to add that month.\n",
        "\n",
        "The six different stocks must include AAPL, SPY and TSLA.\n",
        "At least one of the remaining 3 tickers must start with the same letter as your last name (e.g. professor Considine could use COIN).\n",
        "This is to encourage diversity in what stocks you analyze; if you discuss this project with classmates, please make sure that you pick different tickers to differentiate your work.\n",
        "Do not pick stocks with fewer than 24 consecutive months of price data."
      ]
    },
    {
      "cell_type": "code",
      "execution_count": 128,
      "metadata": {},
      "outputs": [
        {
          "name": "stdout",
          "output_type": "stream",
          "text": [
            "Requirement already satisfied: yfinance in /usr/local/python/3.12.1/lib/python3.12/site-packages (0.2.65)\n",
            "Requirement already satisfied: pandas>=1.3.0 in /home/codespace/.local/lib/python3.12/site-packages (from yfinance) (2.3.1)\n",
            "Requirement already satisfied: numpy>=1.16.5 in /home/codespace/.local/lib/python3.12/site-packages (from yfinance) (2.3.1)\n",
            "Requirement already satisfied: requests>=2.31 in /home/codespace/.local/lib/python3.12/site-packages (from yfinance) (2.32.4)\n",
            "Requirement already satisfied: multitasking>=0.0.7 in /usr/local/python/3.12.1/lib/python3.12/site-packages (from yfinance) (0.0.12)\n",
            "Requirement already satisfied: platformdirs>=2.0.0 in /home/codespace/.local/lib/python3.12/site-packages (from yfinance) (4.3.8)\n",
            "Requirement already satisfied: pytz>=2022.5 in /home/codespace/.local/lib/python3.12/site-packages (from yfinance) (2025.2)\n",
            "Requirement already satisfied: frozendict>=2.3.4 in /usr/local/python/3.12.1/lib/python3.12/site-packages (from yfinance) (2.4.6)\n",
            "Requirement already satisfied: peewee>=3.16.2 in /usr/local/python/3.12.1/lib/python3.12/site-packages (from yfinance) (3.18.2)\n",
            "Requirement already satisfied: beautifulsoup4>=4.11.1 in /home/codespace/.local/lib/python3.12/site-packages (from yfinance) (4.13.4)\n",
            "Requirement already satisfied: curl_cffi>=0.7 in /usr/local/python/3.12.1/lib/python3.12/site-packages (from yfinance) (0.13.0)\n",
            "Requirement already satisfied: protobuf>=3.19.0 in /usr/local/python/3.12.1/lib/python3.12/site-packages (from yfinance) (6.32.0)\n",
            "Requirement already satisfied: websockets>=13.0 in /usr/local/python/3.12.1/lib/python3.12/site-packages (from yfinance) (15.0.1)\n",
            "Requirement already satisfied: soupsieve>1.2 in /home/codespace/.local/lib/python3.12/site-packages (from beautifulsoup4>=4.11.1->yfinance) (2.7)\n",
            "Requirement already satisfied: typing-extensions>=4.0.0 in /home/codespace/.local/lib/python3.12/site-packages (from beautifulsoup4>=4.11.1->yfinance) (4.14.1)\n",
            "Requirement already satisfied: cffi>=1.12.0 in /home/codespace/.local/lib/python3.12/site-packages (from curl_cffi>=0.7->yfinance) (1.17.1)\n",
            "Requirement already satisfied: certifi>=2024.2.2 in /home/codespace/.local/lib/python3.12/site-packages (from curl_cffi>=0.7->yfinance) (2025.7.9)\n",
            "Requirement already satisfied: pycparser in /home/codespace/.local/lib/python3.12/site-packages (from cffi>=1.12.0->curl_cffi>=0.7->yfinance) (2.22)\n",
            "Requirement already satisfied: python-dateutil>=2.8.2 in /home/codespace/.local/lib/python3.12/site-packages (from pandas>=1.3.0->yfinance) (2.9.0.post0)\n",
            "Requirement already satisfied: tzdata>=2022.7 in /home/codespace/.local/lib/python3.12/site-packages (from pandas>=1.3.0->yfinance) (2025.2)\n",
            "Requirement already satisfied: six>=1.5 in /home/codespace/.local/lib/python3.12/site-packages (from python-dateutil>=2.8.2->pandas>=1.3.0->yfinance) (1.17.0)\n",
            "Requirement already satisfied: charset_normalizer<4,>=2 in /home/codespace/.local/lib/python3.12/site-packages (from requests>=2.31->yfinance) (3.4.2)\n",
            "Requirement already satisfied: idna<4,>=2.5 in /home/codespace/.local/lib/python3.12/site-packages (from requests>=2.31->yfinance) (3.10)\n",
            "Requirement already satisfied: urllib3<3,>=1.21.1 in /home/codespace/.local/lib/python3.12/site-packages (from requests>=2.31->yfinance) (2.5.0)\n",
            "\n",
            "\u001b[1m[\u001b[0m\u001b[34;49mnotice\u001b[0m\u001b[1;39;49m]\u001b[0m\u001b[39;49m A new release of pip is available: \u001b[0m\u001b[31;49m25.1.1\u001b[0m\u001b[39;49m -> \u001b[0m\u001b[32;49m25.2\u001b[0m\n",
            "\u001b[1m[\u001b[0m\u001b[34;49mnotice\u001b[0m\u001b[1;39;49m]\u001b[0m\u001b[39;49m To update, run: \u001b[0m\u001b[32;49mpython3 -m pip install --upgrade pip\u001b[0m\n"
          ]
        }
      ],
      "source": [
        "!pip install yfinance\n"
      ]
    },
    {
      "cell_type": "code",
      "execution_count": 129,
      "metadata": {
        "id": "6pL-ppubxfvC"
      },
      "outputs": [
        {
          "name": "stderr",
          "output_type": "stream",
          "text": [
            "[*********************100%***********************]  6 of 6 completed"
          ]
        },
        {
          "name": "stdout",
          "output_type": "stream",
          "text": [
            "Data covers from: 2023-09-30 to: 2025-08-31\n",
            "Ticker            AAPL         AU       SIMO       SIRI         SPY  \\\n",
            "Date                                                                  \n",
            "2023-09-30  169.549271  14.832230  48.000607  41.959274  417.865631   \n",
            "2023-10-31  169.113525  16.747274  50.182880  39.731346  408.794373   \n",
            "2023-11-30  188.355316  18.070910  55.545036  43.682831  446.135223   \n",
            "2023-12-31  190.913681  17.545212  57.878307  51.056644  466.503662   \n",
            "2024-01-31  182.851913  16.540752  59.493645  47.509743  473.933411   \n",
            "2024-02-29  179.461258  17.470110  67.357872  41.476887  498.666504   \n",
            "2024-03-31  170.257339  21.196465  73.209694  36.409576  514.973877   \n",
            "2024-04-30  169.115540  21.950750  70.231445  27.588699  494.210327   \n",
            "2024-05-31  191.138153  23.096506  74.775757  26.696661  519.207336   \n",
            "2024-06-30  209.401932  23.994013  77.552681  26.791327  537.525024   \n",
            "2024-07-31  220.795654  26.810661  66.492882  32.660805  544.033997   \n",
            "2024-08-31  227.939163  28.534407  61.397671  31.414518  556.745667   \n",
            "2024-09-30  231.920639  25.610758  58.664383  22.582169  568.439941   \n",
            "2024-10-31  224.863480  26.735979  51.971199  25.456263  563.367371   \n",
            "2024-11-30  236.490479  23.985445  51.748482  26.003939  596.962891   \n",
            "2024-12-31  249.534180  22.196632  52.704079  21.999622  582.599915   \n",
            "2025-01-31  235.165192  29.053738  53.250137  23.167147  598.246399   \n",
            "2025-02-28  241.249481  28.342062  55.211422  23.586615  590.651794   \n",
            "2025-03-31  221.587616  36.474598  49.759174  21.987522  557.741150   \n",
            "2025-04-30  211.981125  41.426971  48.715961  20.885710  552.905457   \n",
            "2025-05-31  200.622314  43.170788  60.800472  21.405313  587.652771   \n",
            "2025-06-30  204.937408  44.905109  74.679268  22.678967  617.849976   \n",
            "2025-07-31  207.334702  45.575188  76.040329  20.852407  632.080017   \n",
            "2025-08-31  232.139999  56.660000  79.680000  23.639999  645.049988   \n",
            "\n",
            "Ticker            TSLA  \n",
            "Date                    \n",
            "2023-09-30  250.220001  \n",
            "2023-10-31  200.839996  \n",
            "2023-11-30  240.080002  \n",
            "2023-12-31  248.479996  \n",
            "2024-01-31  187.289993  \n",
            "2024-02-29  201.880005  \n",
            "2024-03-31  175.789993  \n",
            "2024-04-30  183.279999  \n",
            "2024-05-31  178.080002  \n",
            "2024-06-30  197.880005  \n",
            "2024-07-31  232.070007  \n",
            "2024-08-31  214.110001  \n",
            "2024-09-30  261.630005  \n",
            "2024-10-31  249.850006  \n",
            "2024-11-30  345.160004  \n",
            "2024-12-31  403.839996  \n",
            "2025-01-31  404.600006  \n",
            "2025-02-28  292.980011  \n",
            "2025-03-31  259.160004  \n",
            "2025-04-30  282.160004  \n",
            "2025-05-31  346.459991  \n",
            "2025-06-30  317.660004  \n",
            "2025-07-31  308.269989  \n",
            "2025-08-31  333.869995  \n"
          ]
        },
        {
          "name": "stderr",
          "output_type": "stream",
          "text": [
            "\n",
            "/tmp/ipykernel_53785/4138594810.py:16: FutureWarning: 'M' is deprecated and will be removed in a future version, please use 'ME' instead.\n",
            "  monthly_last = adj_close.resample('M').last()\n"
          ]
        }
      ],
      "source": [
        "# YOUR CHANGES HERE\n",
        "import yfinance as yf\n",
        "import pandas as pd\n",
        "\n",
        "#AAPL is Apple, SPE is SPDER S&P 500 ETF Trust, TSLA is Tesla\n",
        "#SIMO is Silicon Motion Technology\n",
        "#SIRI is Sirius XM Holdings\n",
        "#AU is AngloGold Ashanti Ltd, mining company\n",
        "tickers = [\"AAPL\", \"SPY\", \"TSLA\", \"SIMO\", \"SIRI\", \"AU\"] \n",
        "\n",
        "data = yf.download(tickers, period=\"24mo\", interval=\"1d\", auto_adjust=False)\n",
        "\n",
        "adj_close = data['Adj Close']\n",
        "\n",
        "# Get last trading day of each month\n",
        "monthly_last = adj_close.resample('M').last()\n",
        "\n",
        "# Drop Sept. 2025\n",
        "monthly_last = monthly_last.iloc[:-1]  \n",
        "\n",
        "print(\"Data covers from:\", monthly_last.index[0].date(), \"to:\", monthly_last.index[-1].date())\n",
        "\n",
        "print(monthly_last)\n",
        "\n",
        "\n",
        "\n"
      ]
    },
    {
      "cell_type": "markdown",
      "metadata": {
        "id": "1uH9oDQ1rEQT"
      },
      "source": [
        "Save the data as a TSV file named \"historical_prices.tsv\" and include a header row with the column names \"date\" and the 6 stock ticker symbols.\n",
        "The date should be the last trading day of the month, so it may not be the last day of the month.\n",
        "For example, the last trading day of November 2024 was 2024-11-29.\n",
        "The remaining columns should contain the adjusted closing prices of the corresponding stock tickers on that day.\n"
      ]
    },
    {
      "cell_type": "code",
      "execution_count": 130,
      "metadata": {
        "id": "mHbwKHOhtQ3E"
      },
      "outputs": [
        {
          "data": {
            "text/html": [
              "<div>\n",
              "<style scoped>\n",
              "    .dataframe tbody tr th:only-of-type {\n",
              "        vertical-align: middle;\n",
              "    }\n",
              "\n",
              "    .dataframe tbody tr th {\n",
              "        vertical-align: top;\n",
              "    }\n",
              "\n",
              "    .dataframe thead th {\n",
              "        text-align: right;\n",
              "    }\n",
              "</style>\n",
              "<table border=\"1\" class=\"dataframe\">\n",
              "  <thead>\n",
              "    <tr style=\"text-align: right;\">\n",
              "      <th>Ticker</th>\n",
              "      <th>AAPL</th>\n",
              "      <th>AU</th>\n",
              "      <th>SIMO</th>\n",
              "      <th>SIRI</th>\n",
              "      <th>SPY</th>\n",
              "      <th>TSLA</th>\n",
              "    </tr>\n",
              "    <tr>\n",
              "      <th>Date</th>\n",
              "      <th></th>\n",
              "      <th></th>\n",
              "      <th></th>\n",
              "      <th></th>\n",
              "      <th></th>\n",
              "      <th></th>\n",
              "    </tr>\n",
              "  </thead>\n",
              "  <tbody>\n",
              "    <tr>\n",
              "      <th>2023-09-30</th>\n",
              "      <td>169.549271</td>\n",
              "      <td>14.832230</td>\n",
              "      <td>48.000607</td>\n",
              "      <td>41.959274</td>\n",
              "      <td>417.865631</td>\n",
              "      <td>250.220001</td>\n",
              "    </tr>\n",
              "    <tr>\n",
              "      <th>2023-10-31</th>\n",
              "      <td>169.113525</td>\n",
              "      <td>16.747274</td>\n",
              "      <td>50.182880</td>\n",
              "      <td>39.731346</td>\n",
              "      <td>408.794373</td>\n",
              "      <td>200.839996</td>\n",
              "    </tr>\n",
              "    <tr>\n",
              "      <th>2023-11-30</th>\n",
              "      <td>188.355316</td>\n",
              "      <td>18.070910</td>\n",
              "      <td>55.545036</td>\n",
              "      <td>43.682831</td>\n",
              "      <td>446.135223</td>\n",
              "      <td>240.080002</td>\n",
              "    </tr>\n",
              "    <tr>\n",
              "      <th>2023-12-31</th>\n",
              "      <td>190.913681</td>\n",
              "      <td>17.545212</td>\n",
              "      <td>57.878307</td>\n",
              "      <td>51.056644</td>\n",
              "      <td>466.503662</td>\n",
              "      <td>248.479996</td>\n",
              "    </tr>\n",
              "    <tr>\n",
              "      <th>2024-01-31</th>\n",
              "      <td>182.851913</td>\n",
              "      <td>16.540752</td>\n",
              "      <td>59.493645</td>\n",
              "      <td>47.509743</td>\n",
              "      <td>473.933411</td>\n",
              "      <td>187.289993</td>\n",
              "    </tr>\n",
              "    <tr>\n",
              "      <th>2024-02-29</th>\n",
              "      <td>179.461258</td>\n",
              "      <td>17.470110</td>\n",
              "      <td>67.357872</td>\n",
              "      <td>41.476887</td>\n",
              "      <td>498.666504</td>\n",
              "      <td>201.880005</td>\n",
              "    </tr>\n",
              "    <tr>\n",
              "      <th>2024-03-31</th>\n",
              "      <td>170.257339</td>\n",
              "      <td>21.196465</td>\n",
              "      <td>73.209694</td>\n",
              "      <td>36.409576</td>\n",
              "      <td>514.973877</td>\n",
              "      <td>175.789993</td>\n",
              "    </tr>\n",
              "    <tr>\n",
              "      <th>2024-04-30</th>\n",
              "      <td>169.115540</td>\n",
              "      <td>21.950750</td>\n",
              "      <td>70.231445</td>\n",
              "      <td>27.588699</td>\n",
              "      <td>494.210327</td>\n",
              "      <td>183.279999</td>\n",
              "    </tr>\n",
              "    <tr>\n",
              "      <th>2024-05-31</th>\n",
              "      <td>191.138153</td>\n",
              "      <td>23.096506</td>\n",
              "      <td>74.775757</td>\n",
              "      <td>26.696661</td>\n",
              "      <td>519.207336</td>\n",
              "      <td>178.080002</td>\n",
              "    </tr>\n",
              "    <tr>\n",
              "      <th>2024-06-30</th>\n",
              "      <td>209.401932</td>\n",
              "      <td>23.994013</td>\n",
              "      <td>77.552681</td>\n",
              "      <td>26.791327</td>\n",
              "      <td>537.525024</td>\n",
              "      <td>197.880005</td>\n",
              "    </tr>\n",
              "    <tr>\n",
              "      <th>2024-07-31</th>\n",
              "      <td>220.795654</td>\n",
              "      <td>26.810661</td>\n",
              "      <td>66.492882</td>\n",
              "      <td>32.660805</td>\n",
              "      <td>544.033997</td>\n",
              "      <td>232.070007</td>\n",
              "    </tr>\n",
              "    <tr>\n",
              "      <th>2024-08-31</th>\n",
              "      <td>227.939163</td>\n",
              "      <td>28.534407</td>\n",
              "      <td>61.397671</td>\n",
              "      <td>31.414518</td>\n",
              "      <td>556.745667</td>\n",
              "      <td>214.110001</td>\n",
              "    </tr>\n",
              "    <tr>\n",
              "      <th>2024-09-30</th>\n",
              "      <td>231.920639</td>\n",
              "      <td>25.610758</td>\n",
              "      <td>58.664383</td>\n",
              "      <td>22.582169</td>\n",
              "      <td>568.439941</td>\n",
              "      <td>261.630005</td>\n",
              "    </tr>\n",
              "    <tr>\n",
              "      <th>2024-10-31</th>\n",
              "      <td>224.863480</td>\n",
              "      <td>26.735979</td>\n",
              "      <td>51.971199</td>\n",
              "      <td>25.456263</td>\n",
              "      <td>563.367371</td>\n",
              "      <td>249.850006</td>\n",
              "    </tr>\n",
              "    <tr>\n",
              "      <th>2024-11-30</th>\n",
              "      <td>236.490479</td>\n",
              "      <td>23.985445</td>\n",
              "      <td>51.748482</td>\n",
              "      <td>26.003939</td>\n",
              "      <td>596.962891</td>\n",
              "      <td>345.160004</td>\n",
              "    </tr>\n",
              "    <tr>\n",
              "      <th>2024-12-31</th>\n",
              "      <td>249.534180</td>\n",
              "      <td>22.196632</td>\n",
              "      <td>52.704079</td>\n",
              "      <td>21.999622</td>\n",
              "      <td>582.599915</td>\n",
              "      <td>403.839996</td>\n",
              "    </tr>\n",
              "    <tr>\n",
              "      <th>2025-01-31</th>\n",
              "      <td>235.165192</td>\n",
              "      <td>29.053738</td>\n",
              "      <td>53.250137</td>\n",
              "      <td>23.167147</td>\n",
              "      <td>598.246399</td>\n",
              "      <td>404.600006</td>\n",
              "    </tr>\n",
              "    <tr>\n",
              "      <th>2025-02-28</th>\n",
              "      <td>241.249481</td>\n",
              "      <td>28.342062</td>\n",
              "      <td>55.211422</td>\n",
              "      <td>23.586615</td>\n",
              "      <td>590.651794</td>\n",
              "      <td>292.980011</td>\n",
              "    </tr>\n",
              "    <tr>\n",
              "      <th>2025-03-31</th>\n",
              "      <td>221.587616</td>\n",
              "      <td>36.474598</td>\n",
              "      <td>49.759174</td>\n",
              "      <td>21.987522</td>\n",
              "      <td>557.741150</td>\n",
              "      <td>259.160004</td>\n",
              "    </tr>\n",
              "    <tr>\n",
              "      <th>2025-04-30</th>\n",
              "      <td>211.981125</td>\n",
              "      <td>41.426971</td>\n",
              "      <td>48.715961</td>\n",
              "      <td>20.885710</td>\n",
              "      <td>552.905457</td>\n",
              "      <td>282.160004</td>\n",
              "    </tr>\n",
              "    <tr>\n",
              "      <th>2025-05-31</th>\n",
              "      <td>200.622314</td>\n",
              "      <td>43.170788</td>\n",
              "      <td>60.800472</td>\n",
              "      <td>21.405313</td>\n",
              "      <td>587.652771</td>\n",
              "      <td>346.459991</td>\n",
              "    </tr>\n",
              "    <tr>\n",
              "      <th>2025-06-30</th>\n",
              "      <td>204.937408</td>\n",
              "      <td>44.905109</td>\n",
              "      <td>74.679268</td>\n",
              "      <td>22.678967</td>\n",
              "      <td>617.849976</td>\n",
              "      <td>317.660004</td>\n",
              "    </tr>\n",
              "    <tr>\n",
              "      <th>2025-07-31</th>\n",
              "      <td>207.334702</td>\n",
              "      <td>45.575188</td>\n",
              "      <td>76.040329</td>\n",
              "      <td>20.852407</td>\n",
              "      <td>632.080017</td>\n",
              "      <td>308.269989</td>\n",
              "    </tr>\n",
              "    <tr>\n",
              "      <th>2025-08-31</th>\n",
              "      <td>232.139999</td>\n",
              "      <td>56.660000</td>\n",
              "      <td>79.680000</td>\n",
              "      <td>23.639999</td>\n",
              "      <td>645.049988</td>\n",
              "      <td>333.869995</td>\n",
              "    </tr>\n",
              "  </tbody>\n",
              "</table>\n",
              "</div>"
            ],
            "text/plain": [
              "Ticker            AAPL         AU       SIMO       SIRI         SPY  \\\n",
              "Date                                                                  \n",
              "2023-09-30  169.549271  14.832230  48.000607  41.959274  417.865631   \n",
              "2023-10-31  169.113525  16.747274  50.182880  39.731346  408.794373   \n",
              "2023-11-30  188.355316  18.070910  55.545036  43.682831  446.135223   \n",
              "2023-12-31  190.913681  17.545212  57.878307  51.056644  466.503662   \n",
              "2024-01-31  182.851913  16.540752  59.493645  47.509743  473.933411   \n",
              "2024-02-29  179.461258  17.470110  67.357872  41.476887  498.666504   \n",
              "2024-03-31  170.257339  21.196465  73.209694  36.409576  514.973877   \n",
              "2024-04-30  169.115540  21.950750  70.231445  27.588699  494.210327   \n",
              "2024-05-31  191.138153  23.096506  74.775757  26.696661  519.207336   \n",
              "2024-06-30  209.401932  23.994013  77.552681  26.791327  537.525024   \n",
              "2024-07-31  220.795654  26.810661  66.492882  32.660805  544.033997   \n",
              "2024-08-31  227.939163  28.534407  61.397671  31.414518  556.745667   \n",
              "2024-09-30  231.920639  25.610758  58.664383  22.582169  568.439941   \n",
              "2024-10-31  224.863480  26.735979  51.971199  25.456263  563.367371   \n",
              "2024-11-30  236.490479  23.985445  51.748482  26.003939  596.962891   \n",
              "2024-12-31  249.534180  22.196632  52.704079  21.999622  582.599915   \n",
              "2025-01-31  235.165192  29.053738  53.250137  23.167147  598.246399   \n",
              "2025-02-28  241.249481  28.342062  55.211422  23.586615  590.651794   \n",
              "2025-03-31  221.587616  36.474598  49.759174  21.987522  557.741150   \n",
              "2025-04-30  211.981125  41.426971  48.715961  20.885710  552.905457   \n",
              "2025-05-31  200.622314  43.170788  60.800472  21.405313  587.652771   \n",
              "2025-06-30  204.937408  44.905109  74.679268  22.678967  617.849976   \n",
              "2025-07-31  207.334702  45.575188  76.040329  20.852407  632.080017   \n",
              "2025-08-31  232.139999  56.660000  79.680000  23.639999  645.049988   \n",
              "\n",
              "Ticker            TSLA  \n",
              "Date                    \n",
              "2023-09-30  250.220001  \n",
              "2023-10-31  200.839996  \n",
              "2023-11-30  240.080002  \n",
              "2023-12-31  248.479996  \n",
              "2024-01-31  187.289993  \n",
              "2024-02-29  201.880005  \n",
              "2024-03-31  175.789993  \n",
              "2024-04-30  183.279999  \n",
              "2024-05-31  178.080002  \n",
              "2024-06-30  197.880005  \n",
              "2024-07-31  232.070007  \n",
              "2024-08-31  214.110001  \n",
              "2024-09-30  261.630005  \n",
              "2024-10-31  249.850006  \n",
              "2024-11-30  345.160004  \n",
              "2024-12-31  403.839996  \n",
              "2025-01-31  404.600006  \n",
              "2025-02-28  292.980011  \n",
              "2025-03-31  259.160004  \n",
              "2025-04-30  282.160004  \n",
              "2025-05-31  346.459991  \n",
              "2025-06-30  317.660004  \n",
              "2025-07-31  308.269989  \n",
              "2025-08-31  333.869995  "
            ]
          },
          "execution_count": 130,
          "metadata": {},
          "output_type": "execute_result"
        }
      ],
      "source": [
        "# YOUR CHANGES HERE\n",
        "\n",
        "monthly_last "
      ]
    },
    {
      "cell_type": "code",
      "execution_count": 131,
      "metadata": {},
      "outputs": [],
      "source": [
        "monthly_last.to_csv(\"historical_prices.tsv\", sep='\\t', index_label=\"date\")"
      ]
    },
    {
      "cell_type": "markdown",
      "metadata": {
        "id": "2hp0yuXPtT9V"
      },
      "source": [
        "Submit \"historical_prices.tsv\" in Gradescope."
      ]
    },
    {
      "cell_type": "markdown",
      "metadata": {
        "id": "7XdNVWWirUd5"
      },
      "source": [
        "## Part 2: Calculate Historical Asset Returns\n",
        "\n",
        "Calculate the historical asset returns based on the price data that you previously collected."
      ]
    },
    {
      "cell_type": "code",
      "execution_count": 132,
      "metadata": {
        "id": "aL-kVua2xex-"
      },
      "outputs": [
        {
          "name": "stdout",
          "output_type": "stream",
          "text": [
            "Historical Returns:\n",
            "                AAPL        AU      SIMO      SIRI       SPY      TSLA\n",
            "date                                                                  \n",
            "2023-09-30       NaN       NaN       NaN       NaN       NaN       NaN\n",
            "2023-10-31 -0.002570  0.129114  0.045463 -0.053097 -0.021709 -0.197346\n",
            "2023-11-30  0.113780  0.079036  0.106852  0.099455  0.091344  0.195379\n",
            "2023-12-31  0.013583 -0.029091  0.042007  0.168803  0.045655  0.034988\n",
            "2024-01-31 -0.042227 -0.057250  0.027909 -0.069470  0.015926 -0.246257\n"
          ]
        }
      ],
      "source": [
        "# YOUR CHANGES HERE\n",
        "\n",
        "prices = pd.read_csv(\"historical_prices.tsv\", sep=\"\\t\", index_col=\"date\", parse_dates=True)\n",
        "\n",
        "#monthly returns: (P_t - P_{t-1}) / P_{t-1}\n",
        "returns = prices.pct_change()\n",
        "\n",
        "print(\"Historical Returns:\")\n",
        "print(returns.head())\n",
        "\n",
        "\n"
      ]
    },
    {
      "cell_type": "code",
      "execution_count": 133,
      "metadata": {},
      "outputs": [
        {
          "name": "stdout",
          "output_type": "stream",
          "text": [
            "Monthly Returns:\n",
            "                AAPL        AU      SIMO      SIRI       SPY      TSLA\n",
            "date                                                                  \n",
            "2023-10-31 -0.002570  0.129114  0.045463 -0.053097 -0.021709 -0.197346\n",
            "2023-11-30  0.113780  0.079036  0.106852  0.099455  0.091344  0.195379\n",
            "2023-12-31  0.013583 -0.029091  0.042007  0.168803  0.045655  0.034988\n",
            "2024-01-31 -0.042227 -0.057250  0.027909 -0.069470  0.015926 -0.246257\n",
            "2024-02-29 -0.018543  0.056186  0.132186 -0.126981  0.052187  0.077901\n"
          ]
        }
      ],
      "source": [
        "# Drop the first row (since all NaN)\n",
        "returns = returns.dropna()\n",
        "\n",
        "print(\"Monthly Returns:\")\n",
        "print(returns.head())"
      ]
    },
    {
      "cell_type": "markdown",
      "metadata": {
        "id": "OjhEYCWOrIu3"
      },
      "source": [
        "Save the data as a TSV file named \"historical_returns.tsv\" and include a header row with the column names \"date\" and the 6 stock ticker symbols.\n",
        "Each row should have the date at the end of the month and the corresponding *relative* price changes.\n",
        "For example, if the previous price was \\$100 and the new price is \\$110, the return value should be 0.10.\n",
        "There should only be 23 rows of data in this file, since they are computed as the differences of 24 prices."
      ]
    },
    {
      "cell_type": "code",
      "execution_count": 134,
      "metadata": {
        "id": "cN-7q9QvvyKG"
      },
      "outputs": [],
      "source": [
        "# YOUR CHANGES HERE\n",
        "returns.to_csv(\"historical_returns.tsv\", sep=\"\\t\", index_label=\"date\")"
      ]
    },
    {
      "cell_type": "markdown",
      "metadata": {
        "id": "vyBtnCTUtfRq"
      },
      "source": [
        "Submit \"historical_returns.tsv\" in Gradescope."
      ]
    },
    {
      "cell_type": "markdown",
      "metadata": {
        "id": "MoCkf4ouV9IA"
      },
      "source": [
        "## Part 3: Estimate Returns\n",
        "\n",
        "Estimate the expected returns for each asset using the previously calculated return data.\n",
        "Just compute the average (mean) return for each asset over your data set; do not use other estimators that have been mentioned.\n",
        "This will serve as your estimate of expected return for each asset."
      ]
    },
    {
      "cell_type": "code",
      "execution_count": 135,
      "metadata": {
        "id": "N2iDEhSRxd2n"
      },
      "outputs": [
        {
          "name": "stdout",
          "output_type": "stream",
          "text": [
            "AAPL    0.015442\n",
            "AU      0.065704\n",
            "SIMO    0.026464\n",
            "SIRI   -0.016920\n",
            "SPY     0.019666\n",
            "TSLA    0.025313\n",
            "dtype: float64\n"
          ]
        }
      ],
      "source": [
        "# YOUR CHANGES HERE\n",
        "\n",
        "\n",
        "returns = pd.read_csv(\"historical_returns.tsv\", sep=\"\\t\", parse_dates=[\"date\"])\n",
        "returns.set_index(\"date\", inplace=True)\n",
        "\n",
        "estimated_returns = returns.mean()\n",
        "\n",
        "print(estimated_returns)\n"
      ]
    },
    {
      "cell_type": "markdown",
      "metadata": {
        "id": "e5YTEwoarM2M"
      },
      "source": [
        "Save the estimated returns in a TSV file named \"estimated_returns.tsv\" and include a header row with the column names \"asset\" and \"estimated_return\"."
      ]
    },
    {
      "cell_type": "code",
      "execution_count": 136,
      "metadata": {
        "id": "At71YDpwvwUw"
      },
      "outputs": [],
      "source": [
        "# YOUR CHANGES HERE\n",
        "\n",
        "estimated_returns_df = estimated_returns.reset_index()\n",
        "estimated_returns_df.columns = [\"asset\", \"estimated_return\"]\n",
        "\n",
        "estimated_returns_df.to_csv(\"estimated_returns.tsv\", sep=\"\\t\", index=False)\n",
        "\n"
      ]
    },
    {
      "cell_type": "markdown",
      "metadata": {
        "id": "cjfnF-2Wtj6r"
      },
      "source": [
        "Submit \"estimated_returns.tsv\" in Gradescope."
      ]
    },
    {
      "cell_type": "markdown",
      "metadata": {
        "id": "VTuIqrkAWXVL"
      },
      "source": [
        "## Part 4: Estimate Risk\n",
        "\n",
        "Estimate the covariance matrix for the asset returns to understand how the assets move together."
      ]
    },
    {
      "cell_type": "code",
      "execution_count": 137,
      "metadata": {
        "id": "RFZfIkTMxcv7"
      },
      "outputs": [
        {
          "name": "stdout",
          "output_type": "stream",
          "text": [
            "          AAPL        AU      SIMO      SIRI       SPY      TSLA\n",
            "AAPL  0.003627 -0.001739  0.000341  0.001986  0.000832  0.003255\n",
            "AU   -0.001739  0.013089 -0.000890  0.003348 -0.000797 -0.004686\n",
            "SIMO  0.000341 -0.000890  0.009166  0.000207  0.002055  0.000416\n",
            "SIRI  0.001986  0.003348  0.000207  0.015359  0.001489  0.001230\n",
            "SPY   0.000832 -0.000797  0.002055  0.001489  0.001292  0.002421\n",
            "TSLA  0.003255 -0.004686  0.000416  0.001230  0.002421  0.026703\n"
          ]
        }
      ],
      "source": [
        "# YOUR CHANGES HERE\n",
        "\n",
        "returns = pd.read_csv(\"historical_returns.tsv\", sep=\"\\t\", parse_dates=[\"date\"])\n",
        "returns.set_index(\"date\", inplace=True)\n",
        "\n",
        "cov_matrix = returns.cov()\n",
        "\n",
        "print(cov_matrix)\n"
      ]
    },
    {
      "cell_type": "markdown",
      "metadata": {
        "id": "sOmn4s_yr5qn"
      },
      "source": [
        "Save the estimated covariances to a TSV file named \"estimated_covariance.tsv\".\n",
        "The header row should have a blank column name followed by the names of the assets.\n",
        "Each data row should start with the name of an asset for that row, and be followed by the individual covariances corresponding to that row and column's assets.\n",
        "(This is the format of pandas's `to_csv` method with `sep=\"\\t\"` when used on a covariance matrix as computed in the examples.)"
      ]
    },
    {
      "cell_type": "code",
      "execution_count": 138,
      "metadata": {
        "id": "Te-NPQxSvuXm"
      },
      "outputs": [],
      "source": [
        "# YOUR CHANGES HERE\n",
        "\n",
        "#A covariance matrix is a table (matrix) that shows how different variables move together \n",
        "      #how asset returns move together. In finance, each variable is the return of an asset, \n",
        "      # and the matrix tells us how risky each asset is (variance = diagonal entries)\n",
        "      # How correlated different assets are (covariance = off-diagonal entries)\n",
        "\n",
        "cov_matrix.to_csv(\"estimated_covariance.tsv\", sep=\"\\t\", index=True)\n"
      ]
    },
    {
      "cell_type": "markdown",
      "metadata": {
        "id": "lS9vek0btoK6"
      },
      "source": [
        "Submit \"estimated_covariance.tsv\" in Gradescope."
      ]
    },
    {
      "cell_type": "markdown",
      "metadata": {
        "id": "C8rC5Eo3sEme"
      },
      "source": [
        "## Part 5: Construct the Maximum Return Portfolio\n",
        "\n",
        "Compute the maximum return portfolio based on your previously estimated risks and returns."
      ]
    },
    {
      "cell_type": "code",
      "execution_count": 139,
      "metadata": {
        "id": "8LW0KKm-xb2I"
      },
      "outputs": [
        {
          "name": "stdout",
          "output_type": "stream",
          "text": [
            "  asset  allocation\n",
            "0  AAPL         0.0\n",
            "1    AU         1.0\n",
            "2  SIMO         0.0\n",
            "3  SIRI         0.0\n",
            "4   SPY         0.0\n",
            "5  TSLA         0.0\n"
          ]
        }
      ],
      "source": [
        "# YOUR CHANGES HERE\n",
        "\n",
        "expected_returns = pd.read_csv(\"estimated_returns.tsv\", sep=\"\\t\")\n",
        "\n",
        "max_return_row = expected_returns.loc[expected_returns['estimated_return'].idxmax()]\n",
        "best_asset = max_return_row['asset']\n",
        "best_return = max_return_row['estimated_return']\n",
        "\n",
        "max_return_portfolio = pd.DataFrame({\n",
        "    'asset': expected_returns['asset'],\n",
        "    'allocation': [1.0 if asset == best_asset else 0.0 for asset in expected_returns['asset']]\n",
        "})\n",
        "\n",
        "print(max_return_portfolio)\n"
      ]
    },
    {
      "cell_type": "markdown",
      "metadata": {
        "id": "jjPOxui5sLTD"
      },
      "source": [
        "Save the maximum return portfolio in a TSV file named \"maximum_return.tsv\".\n",
        "The header row should have two columns, \"asset\" and \"allocation\".\n",
        "The allocation values should sum up to one.\n"
      ]
    },
    {
      "cell_type": "code",
      "execution_count": 140,
      "metadata": {
        "id": "xLl_j8z1vtiT"
      },
      "outputs": [],
      "source": [
        "# YOUR CHANGES HERE\n",
        "\n",
        "max_return_portfolio.to_csv(\"maximum_return.tsv\", sep=\"\\t\", index=False)\n"
      ]
    },
    {
      "cell_type": "markdown",
      "metadata": {
        "id": "4bm3xrxptqJ2"
      },
      "source": [
        "Submit \"maximum_return.tsv\" in Gradescope."
      ]
    },
    {
      "cell_type": "markdown",
      "metadata": {
        "id": "r_QxQ5NpsL-c"
      },
      "source": [
        "## Part 6: Construct the Minimum Risk Portfolio\n",
        "\n",
        "Compute the minimum return portfolio based on your previously estimated risks and returns."
      ]
    },
    {
      "cell_type": "code",
      "execution_count": 141,
      "metadata": {
        "id": "daHSqhv9xbIF"
      },
      "outputs": [
        {
          "data": {
            "text/html": [
              "<div>\n",
              "<style scoped>\n",
              "    .dataframe tbody tr th:only-of-type {\n",
              "        vertical-align: middle;\n",
              "    }\n",
              "\n",
              "    .dataframe tbody tr th {\n",
              "        vertical-align: top;\n",
              "    }\n",
              "\n",
              "    .dataframe thead th {\n",
              "        text-align: right;\n",
              "    }\n",
              "</style>\n",
              "<table border=\"1\" class=\"dataframe\">\n",
              "  <thead>\n",
              "    <tr style=\"text-align: right;\">\n",
              "      <th></th>\n",
              "      <th>asset</th>\n",
              "      <th>allocation</th>\n",
              "    </tr>\n",
              "  </thead>\n",
              "  <tbody>\n",
              "    <tr>\n",
              "      <th>0</th>\n",
              "      <td>AAPL</td>\n",
              "      <td>1.614730e-01</td>\n",
              "    </tr>\n",
              "    <tr>\n",
              "      <th>1</th>\n",
              "      <td>AU</td>\n",
              "      <td>1.356582e-01</td>\n",
              "    </tr>\n",
              "    <tr>\n",
              "      <th>2</th>\n",
              "      <td>SIMO</td>\n",
              "      <td>-6.365512e-20</td>\n",
              "    </tr>\n",
              "    <tr>\n",
              "      <th>3</th>\n",
              "      <td>SIRI</td>\n",
              "      <td>-3.117230e-21</td>\n",
              "    </tr>\n",
              "    <tr>\n",
              "      <th>4</th>\n",
              "      <td>SPY</td>\n",
              "      <td>7.028687e-01</td>\n",
              "    </tr>\n",
              "    <tr>\n",
              "      <th>5</th>\n",
              "      <td>TSLA</td>\n",
              "      <td>-2.424878e-20</td>\n",
              "    </tr>\n",
              "  </tbody>\n",
              "</table>\n",
              "</div>"
            ],
            "text/plain": [
              "  asset    allocation\n",
              "0  AAPL  1.614730e-01\n",
              "1    AU  1.356582e-01\n",
              "2  SIMO -6.365512e-20\n",
              "3  SIRI -3.117230e-21\n",
              "4   SPY  7.028687e-01\n",
              "5  TSLA -2.424878e-20"
            ]
          },
          "execution_count": 141,
          "metadata": {},
          "output_type": "execute_result"
        }
      ],
      "source": [
        "# YOUR CHANGES HERE\n",
        "\n",
        "import cvxpy as cp\n",
        "\n",
        "expected_returns = pd.read_csv(\"estimated_returns.tsv\", sep=\"\\t\")\n",
        "cov_matrix = pd.read_csv(\"estimated_covariance.tsv\", sep=\"\\t\", index_col=0)\n",
        "\n",
        "assets = expected_returns['asset'].values\n",
        "n_assets = len(assets)\n",
        "\n",
        "weights = cp.Variable(n_assets)\n",
        "\n",
        "portfolio_variance = cp.quad_form(weights, cov_matrix.values)\n",
        "objective = cp.Minimize(portfolio_variance)\n",
        "\n",
        "constraints = [\n",
        "    cp.sum(weights) == 1,\n",
        "    weights >= 0\n",
        "]\n",
        "\n",
        "problem = cp.Problem(objective, constraints)\n",
        "problem.solve()\n",
        "\n",
        "min_risk_portfolio = pd.DataFrame({\n",
        "    'asset': assets,\n",
        "    'allocation': weights.value\n",
        "})\n",
        "\n",
        "min_risk_portfolio\n",
        "\n"
      ]
    },
    {
      "cell_type": "markdown",
      "metadata": {
        "id": "wzldkIPxsQor"
      },
      "source": [
        "Save the minimum risk portfolio in a TSV file named \"minimum_risk.tsv\".\n",
        "The header row should have two columns, \"asset\" and \"allocation\".\n",
        "The allocation values should sum up to one.\n"
      ]
    },
    {
      "cell_type": "code",
      "execution_count": 142,
      "metadata": {
        "id": "YRXccAflvrBZ"
      },
      "outputs": [],
      "source": [
        "# YOUR CHANGES HERE\n",
        "\n",
        "min_risk_portfolio.to_csv(\"minimum_risk.tsv\", sep=\"\\t\", index=False)"
      ]
    },
    {
      "cell_type": "markdown",
      "metadata": {
        "id": "P5gy_XETtsoi"
      },
      "source": [
        "Submit \"minimum_risk.tsv\" in Gradescope."
      ]
    },
    {
      "cell_type": "markdown",
      "metadata": {
        "id": "mzyJGWDvWhva"
      },
      "source": [
        "## Part 7: Build Efficient Frontier Portfolios\n",
        "\n",
        "Compute 101 portfolios along the mean-variance efficient frontier with evenly spaced estimated returns.\n",
        "The first portfolio should be the minimum risk portfolio from part 4, and the last portfolio should be the maximum return portfolio from part 3.\n",
        "The estimated return of each portfolio should be higher than the previous by one percent of the difference between the first and last portfolios.\n",
        "That is, the estimated return of the portfolios should be similar to `np.linspace(min_risk_return, max_return, 101)`.\n"
      ]
    },
    {
      "cell_type": "code",
      "execution_count": 143,
      "metadata": {},
      "outputs": [
        {
          "name": "stdout",
          "output_type": "stream",
          "text": [
            "Requirement already satisfied: cvxpy in /usr/local/python/3.12.1/lib/python3.12/site-packages (1.7.2)\n",
            "Requirement already satisfied: osqp>=0.6.2 in /usr/local/python/3.12.1/lib/python3.12/site-packages (from cvxpy) (1.0.4)\n",
            "Requirement already satisfied: clarabel>=0.5.0 in /usr/local/python/3.12.1/lib/python3.12/site-packages (from cvxpy) (0.11.1)\n",
            "Requirement already satisfied: scs>=3.2.4.post1 in /usr/local/python/3.12.1/lib/python3.12/site-packages (from cvxpy) (3.2.8)\n",
            "Requirement already satisfied: numpy>=1.22.4 in /home/codespace/.local/lib/python3.12/site-packages (from cvxpy) (2.3.1)\n",
            "Requirement already satisfied: scipy>=1.13.0 in /home/codespace/.local/lib/python3.12/site-packages (from cvxpy) (1.16.0)\n",
            "Requirement already satisfied: cffi in /home/codespace/.local/lib/python3.12/site-packages (from clarabel>=0.5.0->cvxpy) (1.17.1)\n",
            "Requirement already satisfied: jinja2 in /home/codespace/.local/lib/python3.12/site-packages (from osqp>=0.6.2->cvxpy) (3.1.6)\n",
            "Requirement already satisfied: setuptools in /home/codespace/.local/lib/python3.12/site-packages (from osqp>=0.6.2->cvxpy) (80.9.0)\n",
            "Requirement already satisfied: joblib in /home/codespace/.local/lib/python3.12/site-packages (from osqp>=0.6.2->cvxpy) (1.5.1)\n",
            "Requirement already satisfied: pycparser in /home/codespace/.local/lib/python3.12/site-packages (from cffi->clarabel>=0.5.0->cvxpy) (2.22)\n",
            "Requirement already satisfied: MarkupSafe>=2.0 in /home/codespace/.local/lib/python3.12/site-packages (from jinja2->osqp>=0.6.2->cvxpy) (3.0.2)\n",
            "\n",
            "\u001b[1m[\u001b[0m\u001b[34;49mnotice\u001b[0m\u001b[1;39;49m]\u001b[0m\u001b[39;49m A new release of pip is available: \u001b[0m\u001b[31;49m25.1.1\u001b[0m\u001b[39;49m -> \u001b[0m\u001b[32;49m25.2\u001b[0m\n",
            "\u001b[1m[\u001b[0m\u001b[34;49mnotice\u001b[0m\u001b[1;39;49m]\u001b[0m\u001b[39;49m To update, run: \u001b[0m\u001b[32;49mpython3 -m pip install --upgrade pip\u001b[0m\n"
          ]
        }
      ],
      "source": [
        "!pip install cvxpy\n"
      ]
    },
    {
      "cell_type": "code",
      "execution_count": 144,
      "metadata": {
        "id": "XaR6mKwvxZ4W"
      },
      "outputs": [],
      "source": [
        "# YOUR CHANGES HERE\n",
        "\n",
        "import cvxpy as cp\n",
        "import numpy as np\n",
        "\n",
        "expected_returns = pd.read_csv(\"estimated_returns.tsv\", sep=\"\\t\")\n",
        "cov_matrix = pd.read_csv(\"estimated_covariance.tsv\", sep=\"\\t\", index_col=0)\n",
        "\n",
        "mu = expected_returns['estimated_return'].values\n",
        "assets = expected_returns['asset'].values\n",
        "Sigma = cov_matrix.loc[assets, assets].values  \n",
        "n = len(mu)\n",
        "\n",
        "w = cp.Variable(n)\n",
        "objective = cp.quad_form(w, Sigma)\n",
        "constraints = [cp.sum(w) == 1, w >= 0]\n",
        "prob = cp.Problem(cp.Minimize(objective), constraints)\n",
        "prob.solve()\n",
        "w_min_var = w.value\n",
        "min_risk_return = mu @ w_min_var\n",
        "\n",
        "max_return = np.max(mu)\n",
        "\n",
        "target_returns = np.linspace(min_risk_return, max_return, 101)\n",
        "\n",
        "results = []\n",
        "\n",
        "for idx, r_target in enumerate(target_returns):\n",
        "    w = cp.Variable(n)\n",
        "    objective = cp.quad_form(w, Sigma)\n",
        "    constraints = [\n",
        "        cp.sum(w) == 1,\n",
        "        mu @ w == r_target,\n",
        "        w >= 0\n",
        "    ]\n",
        "    prob = cp.Problem(cp.Minimize(objective), constraints)\n",
        "    prob.solve()\n",
        "\n",
        "    if w.value is not None:\n",
        "        weights = w.value\n",
        "        port_return = mu @ weights\n",
        "        port_variance = weights.T @ Sigma @ weights\n",
        "        port_risk = np.sqrt(port_variance)\n",
        "        results.append([idx, port_return, port_risk] + list(weights))\n",
        "    else:\n",
        "        print(f\"Optimization failed at index {idx}, target return {r_target:.4f}\")\n",
        "        results.append([idx, np.nan, np.nan] + [np.nan]*n)\n",
        "\n",
        "columns = ['index', 'return', 'risk'] + list(assets)\n",
        "df = pd.DataFrame(results, columns=columns)\n",
        "\n",
        "\n",
        "\n"
      ]
    },
    {
      "cell_type": "code",
      "execution_count": 145,
      "metadata": {},
      "outputs": [
        {
          "data": {
            "text/html": [
              "<div>\n",
              "<style scoped>\n",
              "    .dataframe tbody tr th:only-of-type {\n",
              "        vertical-align: middle;\n",
              "    }\n",
              "\n",
              "    .dataframe tbody tr th {\n",
              "        vertical-align: top;\n",
              "    }\n",
              "\n",
              "    .dataframe thead th {\n",
              "        text-align: right;\n",
              "    }\n",
              "</style>\n",
              "<table border=\"1\" class=\"dataframe\">\n",
              "  <thead>\n",
              "    <tr style=\"text-align: right;\">\n",
              "      <th></th>\n",
              "      <th>index</th>\n",
              "      <th>return</th>\n",
              "      <th>risk</th>\n",
              "      <th>AAPL</th>\n",
              "      <th>AU</th>\n",
              "      <th>SIMO</th>\n",
              "      <th>SIRI</th>\n",
              "      <th>SPY</th>\n",
              "      <th>TSLA</th>\n",
              "    </tr>\n",
              "  </thead>\n",
              "  <tbody>\n",
              "    <tr>\n",
              "      <th>0</th>\n",
              "      <td>0</td>\n",
              "      <td>0.025230</td>\n",
              "      <td>0.030571</td>\n",
              "      <td>1.614730e-01</td>\n",
              "      <td>0.135658</td>\n",
              "      <td>-5.692257e-20</td>\n",
              "      <td>-1.889356e-20</td>\n",
              "      <td>7.028687e-01</td>\n",
              "      <td>-1.410775e-20</td>\n",
              "    </tr>\n",
              "    <tr>\n",
              "      <th>1</th>\n",
              "      <td>1</td>\n",
              "      <td>0.025634</td>\n",
              "      <td>0.030591</td>\n",
              "      <td>1.588531e-01</td>\n",
              "      <td>0.144209</td>\n",
              "      <td>-5.647717e-20</td>\n",
              "      <td>-1.874356e-20</td>\n",
              "      <td>6.969375e-01</td>\n",
              "      <td>-1.399873e-20</td>\n",
              "    </tr>\n",
              "    <tr>\n",
              "      <th>2</th>\n",
              "      <td>2</td>\n",
              "      <td>0.026039</td>\n",
              "      <td>0.030650</td>\n",
              "      <td>1.562331e-01</td>\n",
              "      <td>0.152761</td>\n",
              "      <td>-5.603048e-20</td>\n",
              "      <td>-1.859321e-20</td>\n",
              "      <td>6.910064e-01</td>\n",
              "      <td>-1.388802e-20</td>\n",
              "    </tr>\n",
              "    <tr>\n",
              "      <th>3</th>\n",
              "      <td>3</td>\n",
              "      <td>0.026444</td>\n",
              "      <td>0.030749</td>\n",
              "      <td>1.536131e-01</td>\n",
              "      <td>0.161312</td>\n",
              "      <td>-5.558770e-20</td>\n",
              "      <td>-1.844937e-20</td>\n",
              "      <td>6.850752e-01</td>\n",
              "      <td>-1.377742e-20</td>\n",
              "    </tr>\n",
              "    <tr>\n",
              "      <th>4</th>\n",
              "      <td>4</td>\n",
              "      <td>0.026849</td>\n",
              "      <td>0.030887</td>\n",
              "      <td>1.509931e-01</td>\n",
              "      <td>0.169863</td>\n",
              "      <td>-5.514058e-20</td>\n",
              "      <td>-1.830403e-20</td>\n",
              "      <td>6.791440e-01</td>\n",
              "      <td>-1.366541e-20</td>\n",
              "    </tr>\n",
              "    <tr>\n",
              "      <th>...</th>\n",
              "      <td>...</td>\n",
              "      <td>...</td>\n",
              "      <td>...</td>\n",
              "      <td>...</td>\n",
              "      <td>...</td>\n",
              "      <td>...</td>\n",
              "      <td>...</td>\n",
              "      <td>...</td>\n",
              "      <td>...</td>\n",
              "    </tr>\n",
              "    <tr>\n",
              "      <th>96</th>\n",
              "      <td>96</td>\n",
              "      <td>0.064085</td>\n",
              "      <td>0.108366</td>\n",
              "      <td>-7.999529e-24</td>\n",
              "      <td>0.959918</td>\n",
              "      <td>-6.390031e-24</td>\n",
              "      <td>-1.045041e-23</td>\n",
              "      <td>-7.443651e-24</td>\n",
              "      <td>4.008236e-02</td>\n",
              "    </tr>\n",
              "    <tr>\n",
              "      <th>97</th>\n",
              "      <td>97</td>\n",
              "      <td>0.064490</td>\n",
              "      <td>0.109840</td>\n",
              "      <td>-1.591387e-23</td>\n",
              "      <td>0.969938</td>\n",
              "      <td>-1.252407e-23</td>\n",
              "      <td>-3.273353e-23</td>\n",
              "      <td>-1.265272e-23</td>\n",
              "      <td>3.006177e-02</td>\n",
              "    </tr>\n",
              "    <tr>\n",
              "      <th>98</th>\n",
              "      <td>98</td>\n",
              "      <td>0.064895</td>\n",
              "      <td>0.111339</td>\n",
              "      <td>-1.454808e-23</td>\n",
              "      <td>0.979959</td>\n",
              "      <td>-8.178602e-24</td>\n",
              "      <td>-3.658702e-23</td>\n",
              "      <td>-1.449333e-23</td>\n",
              "      <td>2.004118e-02</td>\n",
              "    </tr>\n",
              "    <tr>\n",
              "      <th>99</th>\n",
              "      <td>99</td>\n",
              "      <td>0.065299</td>\n",
              "      <td>0.112862</td>\n",
              "      <td>-1.676444e-23</td>\n",
              "      <td>0.989979</td>\n",
              "      <td>-8.408834e-24</td>\n",
              "      <td>-2.964864e-23</td>\n",
              "      <td>-1.501155e-23</td>\n",
              "      <td>1.002059e-02</td>\n",
              "    </tr>\n",
              "    <tr>\n",
              "      <th>100</th>\n",
              "      <td>100</td>\n",
              "      <td>0.065704</td>\n",
              "      <td>0.114408</td>\n",
              "      <td>4.242949e-10</td>\n",
              "      <td>1.000000</td>\n",
              "      <td>3.042481e-10</td>\n",
              "      <td>-2.037941e-09</td>\n",
              "      <td>3.015732e-09</td>\n",
              "      <td>6.599547e-11</td>\n",
              "    </tr>\n",
              "  </tbody>\n",
              "</table>\n",
              "<p>101 rows × 9 columns</p>\n",
              "</div>"
            ],
            "text/plain": [
              "     index    return      risk          AAPL        AU          SIMO  \\\n",
              "0        0  0.025230  0.030571  1.614730e-01  0.135658 -5.692257e-20   \n",
              "1        1  0.025634  0.030591  1.588531e-01  0.144209 -5.647717e-20   \n",
              "2        2  0.026039  0.030650  1.562331e-01  0.152761 -5.603048e-20   \n",
              "3        3  0.026444  0.030749  1.536131e-01  0.161312 -5.558770e-20   \n",
              "4        4  0.026849  0.030887  1.509931e-01  0.169863 -5.514058e-20   \n",
              "..     ...       ...       ...           ...       ...           ...   \n",
              "96      96  0.064085  0.108366 -7.999529e-24  0.959918 -6.390031e-24   \n",
              "97      97  0.064490  0.109840 -1.591387e-23  0.969938 -1.252407e-23   \n",
              "98      98  0.064895  0.111339 -1.454808e-23  0.979959 -8.178602e-24   \n",
              "99      99  0.065299  0.112862 -1.676444e-23  0.989979 -8.408834e-24   \n",
              "100    100  0.065704  0.114408  4.242949e-10  1.000000  3.042481e-10   \n",
              "\n",
              "             SIRI           SPY          TSLA  \n",
              "0   -1.889356e-20  7.028687e-01 -1.410775e-20  \n",
              "1   -1.874356e-20  6.969375e-01 -1.399873e-20  \n",
              "2   -1.859321e-20  6.910064e-01 -1.388802e-20  \n",
              "3   -1.844937e-20  6.850752e-01 -1.377742e-20  \n",
              "4   -1.830403e-20  6.791440e-01 -1.366541e-20  \n",
              "..            ...           ...           ...  \n",
              "96  -1.045041e-23 -7.443651e-24  4.008236e-02  \n",
              "97  -3.273353e-23 -1.265272e-23  3.006177e-02  \n",
              "98  -3.658702e-23 -1.449333e-23  2.004118e-02  \n",
              "99  -2.964864e-23 -1.501155e-23  1.002059e-02  \n",
              "100 -2.037941e-09  3.015732e-09  6.599547e-11  \n",
              "\n",
              "[101 rows x 9 columns]"
            ]
          },
          "execution_count": 145,
          "metadata": {},
          "output_type": "execute_result"
        }
      ],
      "source": [
        "df"
      ]
    },
    {
      "cell_type": "markdown",
      "metadata": {
        "id": "8e3WwTJvsDzh"
      },
      "source": [
        "Save the portfolios in a TSV file named \"efficient_frontier.tsv\".\n",
        "The header row should have columns \"index\", \"return\", \"risk\", and all the asset tickers.\n",
        "Each data row should have the portfolio index (0-100), the estimated return of the portfolio, the estimated standard deviation (not variance) of the portfolio, and all the asset allocations (which should sum to one)."
      ]
    },
    {
      "cell_type": "code",
      "execution_count": 146,
      "metadata": {
        "id": "e9DKadyNvniT"
      },
      "outputs": [],
      "source": [
        "# YOUR CHANGES HERE\n",
        "\n",
        "df.to_csv(\"efficient_frontier.tsv\", sep=\"\\t\", index=False)\n"
      ]
    },
    {
      "cell_type": "markdown",
      "metadata": {
        "id": "jiOa06rItvbs"
      },
      "source": [
        "Submit \"efficient_frontier.tsv\" in Gradescope."
      ]
    },
    {
      "cell_type": "markdown",
      "metadata": {
        "id": "LoW0XBXAzzR6"
      },
      "source": [
        "## Part 8: Check Maximum Return Portfolio Stability\n",
        "\n",
        "Check the stability of the maximum return portfolio by resampling the estimated risk/return model.\n",
        "\n",
        "Repeat 1000 times -\n",
        "1. Use `np.random.multivariate_normal` to generate 23 return samples using your previously estimated risks and returns.\n",
        "2. Estimate the return of each asset using that resampled return history.\n",
        "3. Check which asset had the highest return in those resampled estimates.\n",
        "\n",
        "This procedure is a reduced and simplified version of the Michaud resampled efficient frontier procedure that takes uncertainty in the risk model into account."
      ]
    },
    {
      "cell_type": "code",
      "execution_count": 147,
      "metadata": {
        "id": "Xfke5V57xYvT"
      },
      "outputs": [
        {
          "data": {
            "text/html": [
              "<div>\n",
              "<style scoped>\n",
              "    .dataframe tbody tr th:only-of-type {\n",
              "        vertical-align: middle;\n",
              "    }\n",
              "\n",
              "    .dataframe tbody tr th {\n",
              "        vertical-align: top;\n",
              "    }\n",
              "\n",
              "    .dataframe thead th {\n",
              "        text-align: right;\n",
              "    }\n",
              "</style>\n",
              "<table border=\"1\" class=\"dataframe\">\n",
              "  <thead>\n",
              "    <tr style=\"text-align: right;\">\n",
              "      <th></th>\n",
              "      <th>asset</th>\n",
              "      <th>times_best</th>\n",
              "      <th>percentage</th>\n",
              "    </tr>\n",
              "  </thead>\n",
              "  <tbody>\n",
              "    <tr>\n",
              "      <th>0</th>\n",
              "      <td>AU</td>\n",
              "      <td>760</td>\n",
              "      <td>76.0</td>\n",
              "    </tr>\n",
              "    <tr>\n",
              "      <th>1</th>\n",
              "      <td>TSLA</td>\n",
              "      <td>163</td>\n",
              "      <td>16.3</td>\n",
              "    </tr>\n",
              "    <tr>\n",
              "      <th>2</th>\n",
              "      <td>SIMO</td>\n",
              "      <td>60</td>\n",
              "      <td>6.0</td>\n",
              "    </tr>\n",
              "    <tr>\n",
              "      <th>3</th>\n",
              "      <td>AAPL</td>\n",
              "      <td>12</td>\n",
              "      <td>1.2</td>\n",
              "    </tr>\n",
              "    <tr>\n",
              "      <th>4</th>\n",
              "      <td>SPY</td>\n",
              "      <td>4</td>\n",
              "      <td>0.4</td>\n",
              "    </tr>\n",
              "    <tr>\n",
              "      <th>5</th>\n",
              "      <td>SIRI</td>\n",
              "      <td>1</td>\n",
              "      <td>0.1</td>\n",
              "    </tr>\n",
              "  </tbody>\n",
              "</table>\n",
              "</div>"
            ],
            "text/plain": [
              "  asset  times_best  percentage\n",
              "0    AU         760        76.0\n",
              "1  TSLA         163        16.3\n",
              "2  SIMO          60         6.0\n",
              "3  AAPL          12         1.2\n",
              "4   SPY           4         0.4\n",
              "5  SIRI           1         0.1"
            ]
          },
          "execution_count": 147,
          "metadata": {},
          "output_type": "execute_result"
        }
      ],
      "source": [
        "# YOUR CHANGES HERE\n",
        "\n",
        "from collections import Counter\n",
        "\n",
        "expected_returns = pd.read_csv(\"estimated_returns.tsv\", sep=\"\\t\")\n",
        "cov_matrix = pd.read_csv(\"estimated_covariance.tsv\", sep=\"\\t\", index_col=0)\n",
        "\n",
        "mu = expected_returns['estimated_return'].values\n",
        "assets = expected_returns['asset'].values\n",
        "Sigma = cov_matrix.loc[assets, assets].values  \n",
        "\n",
        "n_simulations = 1000\n",
        "n_samples = 23  \n",
        "\n",
        "max_return_assets = []\n",
        "\n",
        "for _ in range(n_simulations):\n",
        "    simulated_returns = np.random.multivariate_normal(mu, Sigma, size=n_samples)\n",
        "\n",
        "    estimated_mu_sim = simulated_returns.mean(axis=0)\n",
        "\n",
        "    best_asset_idx = np.argmax(estimated_mu_sim)\n",
        "    best_asset = assets[best_asset_idx]\n",
        "    max_return_assets.append(best_asset)\n",
        "\n",
        "asset_counts = Counter(max_return_assets)\n",
        "\n",
        "stability_df = pd.DataFrame({\n",
        "    'asset': list(asset_counts.keys()),\n",
        "    'times_best': list(asset_counts.values())\n",
        "})\n",
        "\n",
        "stability_df['percentage'] = 100 * stability_df['times_best'] / n_simulations\n",
        "\n",
        "stability_df = stability_df.sort_values(by='times_best', ascending=False).reset_index(drop=True)\n",
        "\n",
        "stability_df\n"
      ]
    },
    {
      "cell_type": "code",
      "execution_count": 148,
      "metadata": {},
      "outputs": [
        {
          "data": {
            "text/html": [
              "<div>\n",
              "<style scoped>\n",
              "    .dataframe tbody tr th:only-of-type {\n",
              "        vertical-align: middle;\n",
              "    }\n",
              "\n",
              "    .dataframe tbody tr th {\n",
              "        vertical-align: top;\n",
              "    }\n",
              "\n",
              "    .dataframe thead th {\n",
              "        text-align: right;\n",
              "    }\n",
              "</style>\n",
              "<table border=\"1\" class=\"dataframe\">\n",
              "  <thead>\n",
              "    <tr style=\"text-align: right;\">\n",
              "      <th></th>\n",
              "      <th>asset</th>\n",
              "      <th>probability</th>\n",
              "    </tr>\n",
              "  </thead>\n",
              "  <tbody>\n",
              "    <tr>\n",
              "      <th>0</th>\n",
              "      <td>AU</td>\n",
              "      <td>0.760</td>\n",
              "    </tr>\n",
              "    <tr>\n",
              "      <th>1</th>\n",
              "      <td>TSLA</td>\n",
              "      <td>0.163</td>\n",
              "    </tr>\n",
              "    <tr>\n",
              "      <th>2</th>\n",
              "      <td>AAPL</td>\n",
              "      <td>0.012</td>\n",
              "    </tr>\n",
              "    <tr>\n",
              "      <th>3</th>\n",
              "      <td>SIMO</td>\n",
              "      <td>0.060</td>\n",
              "    </tr>\n",
              "    <tr>\n",
              "      <th>4</th>\n",
              "      <td>SPY</td>\n",
              "      <td>0.004</td>\n",
              "    </tr>\n",
              "    <tr>\n",
              "      <th>5</th>\n",
              "      <td>SIRI</td>\n",
              "      <td>0.001</td>\n",
              "    </tr>\n",
              "  </tbody>\n",
              "</table>\n",
              "</div>"
            ],
            "text/plain": [
              "  asset  probability\n",
              "0    AU        0.760\n",
              "1  TSLA        0.163\n",
              "2  AAPL        0.012\n",
              "3  SIMO        0.060\n",
              "4   SPY        0.004\n",
              "5  SIRI        0.001"
            ]
          },
          "execution_count": 148,
          "metadata": {},
          "output_type": "execute_result"
        }
      ],
      "source": [
        "\n",
        "probability_df = pd.DataFrame({\n",
        "    'asset': list(asset_counts.keys()),\n",
        "    'probability': [count / n_simulations for count in asset_counts.values()]\n",
        "})\n",
        "probability_df"
      ]
    },
    {
      "cell_type": "markdown",
      "metadata": {
        "id": "fes_ScDyz0jp"
      },
      "source": [
        "Save a file \"max_return_probabilities.tsv\" with the distribution of highest return assets.\n",
        "The header row should have columns \"asset\" and \"probability\".\n",
        "There should be a data row for each asset and its sample probability of having the highest return based on those 1000 resampled estimates.\n"
      ]
    },
    {
      "cell_type": "code",
      "execution_count": 149,
      "metadata": {
        "id": "ZAjr15ASvj1S"
      },
      "outputs": [],
      "source": [
        "# YOUR CHANGES HERE\n",
        "\n",
        "probability_df.to_csv(\"max_return_probabilities.tsv\", sep=\"\\t\", index=False)"
      ]
    },
    {
      "cell_type": "markdown",
      "metadata": {
        "id": "2Xd34FQ6txoj"
      },
      "source": [
        "Submit \"max_return_probabilities.tsv\" in Gradescope."
      ]
    },
    {
      "cell_type": "markdown",
      "metadata": {
        "id": "SYbJ21qUYvL_"
      },
      "source": [
        "## Part 9: Acknowledgments\n",
        "\n",
        "Make a file \"acknowledgments.txt\" documenting any outside sources or help on this project.\n",
        "If you discussed this assignment with anyone, please acknowledge them here.\n",
        "If you used any libraries not mentioned in this module's content, please list them with a brief explanation what you used them for.\n",
        "If you used any generative AI tools, please add links to your transcripts below, and any other information that you feel is necessary to comply with the generative AI policy.\n",
        "If no acknowledgements are appropriate, just write none in the file.\n"
      ]
    },
    {
      "cell_type": "markdown",
      "metadata": {
        "id": "H3oWYYHlt42V"
      },
      "source": [
        "Submit \"acknowledgements.txt\" in Gradescope."
      ]
    },
    {
      "cell_type": "code",
      "execution_count": 150,
      "metadata": {},
      "outputs": [
        {
          "data": {
            "text/html": [
              "<div>\n",
              "<style scoped>\n",
              "    .dataframe tbody tr th:only-of-type {\n",
              "        vertical-align: middle;\n",
              "    }\n",
              "\n",
              "    .dataframe tbody tr th {\n",
              "        vertical-align: top;\n",
              "    }\n",
              "\n",
              "    .dataframe thead th {\n",
              "        text-align: right;\n",
              "    }\n",
              "</style>\n",
              "<table border=\"1\" class=\"dataframe\">\n",
              "  <thead>\n",
              "    <tr style=\"text-align: right;\">\n",
              "      <th></th>\n",
              "      <th>Source</th>\n",
              "      <th>Used For/Reason</th>\n",
              "    </tr>\n",
              "  </thead>\n",
              "  <tbody>\n",
              "    <tr>\n",
              "      <th>0</th>\n",
              "      <td>1. https://blog.quantinsti.com/portfolio-optim...</td>\n",
              "      <td>To learn more about Python and how CVXPY and p...</td>\n",
              "    </tr>\n",
              "    <tr>\n",
              "      <th>1</th>\n",
              "      <td>2. https://github.com/tthustla/efficient_front...</td>\n",
              "      <td>To learn more about how Modern Portfolio Theor...</td>\n",
              "    </tr>\n",
              "    <tr>\n",
              "      <th>2</th>\n",
              "      <td>3. https://github.com/cvxgrp/cvxportfolio/tree...</td>\n",
              "      <td>To look at specific examples of the cvxpy and ...</td>\n",
              "    </tr>\n",
              "  </tbody>\n",
              "</table>\n",
              "</div>"
            ],
            "text/plain": [
              "                                              Source  \\\n",
              "0  1. https://blog.quantinsti.com/portfolio-optim...   \n",
              "1  2. https://github.com/tthustla/efficient_front...   \n",
              "2  3. https://github.com/cvxgrp/cvxportfolio/tree...   \n",
              "\n",
              "                                     Used For/Reason  \n",
              "0  To learn more about Python and how CVXPY and p...  \n",
              "1  To learn more about how Modern Portfolio Theor...  \n",
              "2  To look at specific examples of the cvxpy and ...  "
            ]
          },
          "execution_count": 150,
          "metadata": {},
          "output_type": "execute_result"
        }
      ],
      "source": [
        "acknowledgements = [\n",
        "['1. https://blog.quantinsti.com/portfolio-optimization-methods/', \n",
        " 'To learn more about Python and how CVXPY and portfolio optimization works'],\n",
        "['2. https://github.com/tthustla/efficient_frontier/blob/master/Efficient%20_Frontier_implementation.ipynb',\n",
        " 'To learn more about how Modern Portfolio Theory, what it means and how it is implemented into python'],\n",
        "['3. https://github.com/cvxgrp/cvxportfolio/tree/master/cvxportfolio', 'To look at specific examples of the cvxpy and how risks, returns and specific stocks were calculated for more information']\n",
        "]\n",
        "\n",
        "\n",
        "columns = ['Source', 'Used For/Reason']\n",
        "\n",
        "ack_df = pd.DataFrame(acknowledgements, columns=columns)\n",
        "\n",
        "ack_df\n",
        "\n",
        "\n"
      ]
    },
    {
      "cell_type": "code",
      "execution_count": 151,
      "metadata": {},
      "outputs": [],
      "source": [
        "# YOUR CHANGES HERE\n",
        "\n",
        "ack_df.to_csv(\"acknowledgements.txt\", sep=\"\\t\", index=False)"
      ]
    },
    {
      "cell_type": "markdown",
      "metadata": {
        "id": "b8FWiTjvwscA"
      },
      "source": [
        "## Part 10: Code\n",
        "\n",
        "Please submit a Jupyter notebook that can reproduce all your calculations and recreate the previously submitted files.\n",
        "You do not need to provide code for data collection if you did that by manually."
      ]
    },
    {
      "cell_type": "markdown",
      "metadata": {
        "id": "HDEYI-K8vcUW"
      },
      "source": [
        "Submit \"project.ipynb\" in Gradescope."
      ]
    }
  ],
  "metadata": {
    "colab": {
      "toc_visible": false
    },
    "kernelspec": {
      "display_name": "Python 3",
      "name": "python3"
    },
    "language_info": {
      "codemirror_mode": {
        "name": "ipython",
        "version": 3
      },
      "file_extension": ".py",
      "mimetype": "text/x-python",
      "name": "python",
      "nbconvert_exporter": "python",
      "pygments_lexer": "ipython3",
      "version": "3.12.1"
    }
  },
  "nbformat": 4,
  "nbformat_minor": 0
}
